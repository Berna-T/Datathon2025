{
  "cells": [
    {
      "cell_type": "code",
      "execution_count": null,
      "id": "b7ebe44e",
      "metadata": {
        "id": "b7ebe44e"
      },
      "outputs": [],
      "source": [
        "import pandas as pd\n",
        "from sklearn.model_selection import TimeSeriesSplit,GroupKFold\n",
        "from catboost import CatBoostRegressor\n",
        "from lightgbm import LGBMRegressor\n",
        "from xgboost import XGBRegressor\n",
        "from sklearn.metrics import mean_squared_error\n",
        "import numpy as np\n",
        "import matplotlib.pyplot as plt\n",
        "import seaborn as sns\n",
        "import os\n",
        "from scipy import stats\n",
        "from datetime import datetime\n",
        "import json\n",
        "import optuna\n",
        "pd.set_option(\"display.max_columns\", 50)\n",
        "pd.set_option(\"display.max_rows\", 100)\n",
        "import warnings\n",
        "warnings.filterwarnings(\"ignore\")"
      ]
    },
    {
      "cell_type": "markdown",
      "id": "234f273e",
      "metadata": {
        "id": "234f273e"
      },
      "source": [
        "# CV Control"
      ]
    },
    {
      "cell_type": "code",
      "execution_count": null,
      "id": "8abe42a4",
      "metadata": {
        "id": "8abe42a4",
        "outputId": "d355f25b-cacc-46b5-a253-e7882345c8d5"
      },
      "outputs": [
        {
          "name": "stdout",
          "output_type": "stream",
          "text": [
            "2025-06-04 13:25:10+00:00 2025-06-04 13:25:11+00:00\n",
            "Train CV duration: 3 days 13:24:46\n",
            "VAL CV duration: 3 days 15:58:28\n",
            "Train-Test ortak user: 761\n",
            "Train-Test ortak session: 0\n",
            "(14148, 44) (14147, 44)\n",
            "--------------------------------------------------\n",
            "2025-06-08 05:23:39+00:00 2025-06-08 05:23:59+00:00\n",
            "Train CV duration: 7 days 05:23:15\n",
            "VAL CV duration: 4 days 08:43:17\n",
            "Train-Test ortak user: 1481\n",
            "Train-Test ortak session: 0\n",
            "(28295, 44) (14147, 44)\n",
            "--------------------------------------------------\n",
            "2025-06-12 14:07:16+00:00 2025-06-12 14:09:05+00:00\n",
            "Train CV duration: 11 days 14:06:52\n",
            "VAL CV duration: 4 days 18:26:48\n",
            "Train-Test ortak user: 1959\n",
            "Train-Test ortak session: 0\n",
            "(42442, 44) (14147, 44)\n",
            "--------------------------------------------------\n",
            "2025-06-17 08:35:53+00:00 2025-06-17 08:35:54+00:00\n",
            "Train CV duration: 16 days 08:35:29\n",
            "VAL CV duration: 4 days 15:22:11\n",
            "Train-Test ortak user: 2384\n",
            "Train-Test ortak session: 0\n",
            "(56589, 44) (14147, 44)\n",
            "--------------------------------------------------\n"
          ]
        }
      ],
      "source": [
        "train = pd.read_csv(\"train_final.csv\")\n",
        "train = train.sort_values(\"min_date\")\n",
        "group = train[\"user_id\"]\n",
        "\n",
        "train[\"max_date\"] = pd.to_datetime(train[\"max_date\"])\n",
        "train[\"min_date\"] = pd.to_datetime(train[\"min_date\"])\n",
        "\n",
        "cv=TimeSeriesSplit(n_splits=4)\n",
        "\n",
        "for fold, (train_idx, test_idx) in enumerate(cv.split(train)):\n",
        "    train_cv,val_cv = train.iloc[train_idx],train.iloc[test_idx]\n",
        "    print(train_cv[\"min_date\"].max(),val_cv[\"min_date\"].min())\n",
        "\n",
        "    print(\"Train CV duration:\",train_cv[\"min_date\"].max()-train_cv[\"min_date\"].min())\n",
        "    print(\"VAL CV duration:\",val_cv[\"min_date\"].max()-val_cv[\"min_date\"].min())\n",
        "\n",
        "    print(\"Train-Test ortak user:\", len(set(train_cv[\"user_id\"]) & set(val_cv[\"user_id\"])))\n",
        "    print(\"Train-Test ortak session:\", len(set(train_cv[\"user_session\"]) & set(val_cv[\"user_session\"])))\n",
        "    print(train_cv.shape,val_cv.shape)\n",
        "    print(\"-\"*50)"
      ]
    },
    {
      "cell_type": "code",
      "execution_count": null,
      "id": "6b56d593",
      "metadata": {
        "id": "6b56d593"
      },
      "outputs": [],
      "source": [
        "train = pd.read_csv(\"train_final.csv\")\n",
        "train = train.sort_values(\"min_date\")\n",
        "group = train[\"user_id\"]\n",
        "train = train.drop([\"user_session\",\"min_date\",\"max_date\",\"user_id\"],axis=1)\n",
        "\n",
        "x = train.drop(\"session_value\",axis=1)\n",
        "y = train[\"session_value\"]"
      ]
    },
    {
      "cell_type": "code",
      "execution_count": null,
      "id": "abd2c705",
      "metadata": {
        "id": "abd2c705"
      },
      "outputs": [],
      "source": [
        "param = {'objective': 'reg:squarederror', 'device': 'gpu', 'random_state': 22,\n",
        " 'eta': 0.06805925858288127, 'gamma': 0.007598560661707519, 'max_depth': 5, 'min_child_weight': 26,\n",
        " 'max_delta_step': 10, 'subsample': 0.6501883007229573, 'colsample_bytree': 0.8024275970546287,\n",
        " 'colsample_bylevel': 0.83207869249364, 'colsample_bynode': 0.8330850030340746, 'lambda': 0.20263332224150976,\n",
        " 'alpha': 0.04126849049726349, 'n_estimators': 1262}"
      ]
    },
    {
      "cell_type": "code",
      "execution_count": null,
      "id": "ab23f898",
      "metadata": {
        "id": "ab23f898",
        "outputId": "b80f5fb8-213c-417f-89bb-68e77c07a32e"
      },
      "outputs": [
        {
          "name": "stderr",
          "output_type": "stream",
          "text": [
            "sh: 1: nvidia-smi: not found\n"
          ]
        }
      ],
      "source": [
        "cv=TimeSeriesSplit(n_splits=4)\n",
        "scores_list = []\n",
        "for fold, (train_idx, test_idx) in enumerate(cv.split(train)):\n",
        "    train_x , val_x = x.iloc[train_idx] , x.iloc[test_idx]\n",
        "    train_y , val_y = y.iloc[train_idx] , y.iloc[test_idx]\n",
        "    #print(f\"Fold {fold+1}\",train_x.shape,train_y.shape,val_x.shape,val_y.shape)\n",
        "    model = XGBRegressor(**param)\n",
        "    model.fit(train_x,train_y)\n",
        "    prediction = model.predict(val_x)\n",
        "    mse = mean_squared_error(val_y,prediction)\n",
        "    scores_list.append(mse)"
      ]
    },
    {
      "cell_type": "code",
      "execution_count": null,
      "id": "0a964315",
      "metadata": {
        "id": "0a964315",
        "outputId": "347c59b1-862e-4359-a1ad-dd9dbc2f1521"
      },
      "outputs": [
        {
          "data": {
            "text/plain": [
              "[387.7487337135722, 279.3182013846541, 433.3302086551719, 266.1794187788691]"
            ]
          },
          "execution_count": 19,
          "metadata": {},
          "output_type": "execute_result"
        }
      ],
      "source": [
        "scores_list"
      ]
    },
    {
      "cell_type": "markdown",
      "id": "9a38ff6c",
      "metadata": {
        "id": "9a38ff6c"
      },
      "source": [
        "# Create x-y"
      ]
    },
    {
      "cell_type": "code",
      "execution_count": null,
      "id": "c79997ee",
      "metadata": {
        "id": "c79997ee"
      },
      "outputs": [],
      "source": [
        "train = pd.read_csv(\"train_final.csv\")\n",
        "\n",
        "train.replace(np.inf, 99, inplace=True)\n",
        "train.replace(-np.inf, -99, inplace=True)\n",
        "\n",
        "train = train.sort_values(\"min_date\")\n",
        "group = train[\"user_id\"]\n",
        "train = train.drop([\"user_session\",\"min_date\",\"max_date\",\"user_id\"],axis=1)\n",
        "\n",
        "x = train.drop(\"session_value\",axis=1)\n",
        "y = train[\"session_value\"]"
      ]
    },
    {
      "cell_type": "code",
      "execution_count": null,
      "id": "c2870baa",
      "metadata": {
        "id": "c2870baa"
      },
      "outputs": [],
      "source": [
        "seed = 22"
      ]
    },
    {
      "cell_type": "markdown",
      "id": "5997be23",
      "metadata": {
        "id": "5997be23"
      },
      "source": [
        "# LGBM"
      ]
    },
    {
      "cell_type": "code",
      "execution_count": null,
      "id": "884254ca",
      "metadata": {
        "id": "884254ca"
      },
      "outputs": [],
      "source": [
        "def objective_lgbm(trial):\n",
        "    param_constant = {\n",
        "        \"objective\" : trial.suggest_categorical(\"objective\", [\"regression\"]),\n",
        "        \"metric\" : trial.suggest_categorical(\"metric\", [\"mse\"]),\n",
        "        \"boosting_type\" : trial.suggest_categorical(\"boosting_type\", [\"gbdt\"]),\n",
        "        \"bagging_freq\" : trial.suggest_categorical(\"bagging_freq\", [1]),\n",
        "        \"device\" : trial.suggest_categorical(\"device\", [\"gpu\"]),\n",
        "        \"verbose\" : trial.suggest_categorical(\"verbose\", [-1]),\n",
        "        \"seed\" : trial.suggest_categorical(\"seed\", [seed]),\n",
        "    }\n",
        "    param = {\n",
        "        \"max_depth\": trial.suggest_int(\"max_depth\", 3, 12),\n",
        "        \"num_leaves\": trial.suggest_int(\"num_leaves\", 31, 255),\n",
        "        \"learning_rate\": trial.suggest_float(\"learning_rate\", 1e-3, 0.3, log=True),\n",
        "        \"feature_fraction\": trial.suggest_float(\"feature_fraction\", 0.6, 1.0),\n",
        "        \"bagging_fraction\": trial.suggest_float(\"bagging_fraction\", 0.6, 1.0),\n",
        "        \"min_child_samples\": trial.suggest_int(\"min_child_samples\", 5, 100),\n",
        "        \"reg_alpha\": trial.suggest_float(\"reg_alpha\", 1e-3, 10.0, log=True),\n",
        "        \"reg_lambda\": trial.suggest_float(\"reg_lambda\", 1e-3, 10.0, log=True),\n",
        "    }\n",
        "\n",
        "    if os.path.exists(\"./results.csv\"):\n",
        "        results = pd.read_csv(\"./results.csv\")\n",
        "    else:\n",
        "        results = pd.DataFrame()\n",
        "\n",
        "    cv=TimeSeriesSplit(n_splits=4)\n",
        "    scores_list = []\n",
        "    for fold, (train_idx, test_idx) in enumerate(cv.split(train)):\n",
        "        train_x , val_x = x.iloc[train_idx] , x.iloc[test_idx]\n",
        "        train_y , val_y = y.iloc[train_idx] , y.iloc[test_idx]\n",
        "        #print(f\"Fold {fold+1}\",train_x.shape,train_y.shape,val_x.shape,val_y.shape)\n",
        "        model = LGBMRegressor(**param,**param_constant,random_state=seed)\n",
        "        model.fit(train_x,train_y)\n",
        "        prediction = model.predict(val_x)\n",
        "        mse = mean_squared_error(val_y,prediction)\n",
        "        scores_list.append(mse)\n",
        "\n",
        "    df = pd.DataFrame([{\n",
        "        \"model\":\"lgbm\",\n",
        "        \"fold0\": scores_list[0],\n",
        "        \"fold1\": scores_list[1],\n",
        "        \"fold2\": scores_list[2],\n",
        "        \"fold3\": scores_list[3],\n",
        "        \"hyperparameters\": {**param,**param_constant},\n",
        "    }])\n",
        "    results = pd.concat([results,df],ignore_index=True)\n",
        "    results.to_csv(\"./results.csv\", index=False)\n",
        "\n",
        "    return np.mean(scores_list)"
      ]
    },
    {
      "cell_type": "code",
      "execution_count": null,
      "id": "a760bbbd",
      "metadata": {
        "id": "a760bbbd",
        "outputId": "1c1bbb86-aeda-4a07-8521-d1b627be4eda"
      },
      "outputs": [
        {
          "name": "stderr",
          "output_type": "stream",
          "text": [
            "[I 2025-08-29 15:07:28,776] A new study created in memory with name: BTK\n",
            "[I 2025-08-29 15:07:30,294] Trial 0 finished with value: 339.20758779726543 and parameters: {'objective': 'regression', 'metric': 'mse', 'boosting_type': 'gbdt', 'bagging_freq': 1, 'device': 'gpu', 'verbose': -1, 'seed': 22, 'max_depth': 7, 'num_leaves': 202, 'learning_rate': 0.1593616573453373, 'feature_fraction': 0.6845528204389949, 'bagging_fraction': 0.8906117784121719, 'min_child_samples': 20, 'reg_alpha': 2.300565606887274, 'reg_lambda': 0.6547322514108548}. Best is trial 0 with value: 339.20758779726543.\n",
            "[I 2025-08-29 15:07:31,759] Trial 1 finished with value: 1623.77800310935 and parameters: {'objective': 'regression', 'metric': 'mse', 'boosting_type': 'gbdt', 'bagging_freq': 1, 'device': 'gpu', 'verbose': -1, 'seed': 22, 'max_depth': 6, 'num_leaves': 176, 'learning_rate': 0.001691576425962088, 'feature_fraction': 0.8243809589412546, 'bagging_fraction': 0.9273472433933018, 'min_child_samples': 96, 'reg_alpha': 0.05123649564889405, 'reg_lambda': 0.006068994793053938}. Best is trial 0 with value: 339.20758779726543.\n",
            "[I 2025-08-29 15:07:35,089] Trial 2 finished with value: 953.963453609724 and parameters: {'objective': 'regression', 'metric': 'mse', 'boosting_type': 'gbdt', 'bagging_freq': 1, 'device': 'gpu', 'verbose': -1, 'seed': 22, 'max_depth': 12, 'num_leaves': 126, 'learning_rate': 0.005407897576102738, 'feature_fraction': 0.9392898960575802, 'bagging_fraction': 0.6931633224403336, 'min_child_samples': 24, 'reg_alpha': 0.11677967838448482, 'reg_lambda': 0.710507641439092}. Best is trial 0 with value: 339.20758779726543.\n",
            "[I 2025-08-29 15:07:36,334] Trial 3 finished with value: 358.28422872300126 and parameters: {'objective': 'regression', 'metric': 'mse', 'boosting_type': 'gbdt', 'bagging_freq': 1, 'device': 'gpu', 'verbose': -1, 'seed': 22, 'max_depth': 6, 'num_leaves': 180, 'learning_rate': 0.061954645254577376, 'feature_fraction': 0.9381510050972304, 'bagging_fraction': 0.9179213132849487, 'min_child_samples': 90, 'reg_alpha': 0.05821566334377987, 'reg_lambda': 0.0019453008132433536}. Best is trial 0 with value: 339.20758779726543.\n",
            "[I 2025-08-29 15:07:37,327] Trial 4 finished with value: 405.86246245864163 and parameters: {'objective': 'regression', 'metric': 'mse', 'boosting_type': 'gbdt', 'bagging_freq': 1, 'device': 'gpu', 'verbose': -1, 'seed': 22, 'max_depth': 3, 'num_leaves': 114, 'learning_rate': 0.0381788117620514, 'feature_fraction': 0.943926561944, 'bagging_fraction': 0.9136266177905187, 'min_child_samples': 83, 'reg_alpha': 0.0669425457872429, 'reg_lambda': 0.00821343352428773}. Best is trial 0 with value: 339.20758779726543.\n",
            "[I 2025-08-29 15:07:38,473] Trial 5 finished with value: 1566.8082429898827 and parameters: {'objective': 'regression', 'metric': 'mse', 'boosting_type': 'gbdt', 'bagging_freq': 1, 'device': 'gpu', 'verbose': -1, 'seed': 22, 'max_depth': 4, 'num_leaves': 93, 'learning_rate': 0.001990632065134914, 'feature_fraction': 0.8956865812633605, 'bagging_fraction': 0.782612512823858, 'min_child_samples': 63, 'reg_alpha': 0.003182831182897594, 'reg_lambda': 1.4516242985532881}. Best is trial 0 with value: 339.20758779726543.\n",
            "[I 2025-08-29 15:07:40,800] Trial 6 finished with value: 374.0572622313218 and parameters: {'objective': 'regression', 'metric': 'mse', 'boosting_type': 'gbdt', 'bagging_freq': 1, 'device': 'gpu', 'verbose': -1, 'seed': 22, 'max_depth': 10, 'num_leaves': 97, 'learning_rate': 0.02681796624371938, 'feature_fraction': 0.6261276680283967, 'bagging_fraction': 0.9789186737045162, 'min_child_samples': 76, 'reg_alpha': 0.0545069115905632, 'reg_lambda': 6.972097115807001}. Best is trial 0 with value: 339.20758779726543.\n",
            "[I 2025-08-29 15:07:43,695] Trial 7 finished with value: 961.1976348672125 and parameters: {'objective': 'regression', 'metric': 'mse', 'boosting_type': 'gbdt', 'bagging_freq': 1, 'device': 'gpu', 'verbose': -1, 'seed': 22, 'max_depth': 11, 'num_leaves': 105, 'learning_rate': 0.0055445922179098665, 'feature_fraction': 0.8495643977080836, 'bagging_fraction': 0.6519405288463658, 'min_child_samples': 18, 'reg_alpha': 0.001152360817634746, 'reg_lambda': 2.315694730546471}. Best is trial 0 with value: 339.20758779726543.\n",
            "[I 2025-08-29 15:07:45,241] Trial 8 finished with value: 1521.753522498785 and parameters: {'objective': 'regression', 'metric': 'mse', 'boosting_type': 'gbdt', 'bagging_freq': 1, 'device': 'gpu', 'verbose': -1, 'seed': 22, 'max_depth': 6, 'num_leaves': 181, 'learning_rate': 0.0021669593113362038, 'feature_fraction': 0.6164417776108957, 'bagging_fraction': 0.8935057119229295, 'min_child_samples': 36, 'reg_alpha': 0.8431582155214283, 'reg_lambda': 0.049162438574238264}. Best is trial 0 with value: 339.20758779726543.\n",
            "[I 2025-08-29 15:07:46,561] Trial 9 finished with value: 1105.3148657341794 and parameters: {'objective': 'regression', 'metric': 'mse', 'boosting_type': 'gbdt', 'bagging_freq': 1, 'device': 'gpu', 'verbose': -1, 'seed': 22, 'max_depth': 5, 'num_leaves': 176, 'learning_rate': 0.004570453073137302, 'feature_fraction': 0.8580531450798984, 'bagging_fraction': 0.9908751210320998, 'min_child_samples': 89, 'reg_alpha': 0.29636429199750275, 'reg_lambda': 0.4778411795506574}. Best is trial 0 with value: 339.20758779726543.\n",
            "[I 2025-08-29 15:07:48,406] Trial 10 finished with value: 330.42048488389895 and parameters: {'objective': 'regression', 'metric': 'mse', 'boosting_type': 'gbdt', 'bagging_freq': 1, 'device': 'gpu', 'verbose': -1, 'seed': 22, 'max_depth': 9, 'num_leaves': 247, 'learning_rate': 0.23170254206425028, 'feature_fraction': 0.7278371628509571, 'bagging_fraction': 0.7898911353057048, 'min_child_samples': 5, 'reg_alpha': 4.76782987017527, 'reg_lambda': 0.11341148158105278}. Best is trial 10 with value: 330.42048488389895.\n",
            "[I 2025-08-29 15:07:49,878] Trial 11 finished with value: 330.6369589996365 and parameters: {'objective': 'regression', 'metric': 'mse', 'boosting_type': 'gbdt', 'bagging_freq': 1, 'device': 'gpu', 'verbose': -1, 'seed': 22, 'max_depth': 9, 'num_leaves': 239, 'learning_rate': 0.2916937082071911, 'feature_fraction': 0.7168058770590194, 'bagging_fraction': 0.8036639270831675, 'min_child_samples': 11, 'reg_alpha': 5.005239765862417, 'reg_lambda': 0.10452219280064211}. Best is trial 10 with value: 330.42048488389895.\n",
            "[I 2025-08-29 15:07:51,630] Trial 12 finished with value: 341.3263912248686 and parameters: {'objective': 'regression', 'metric': 'mse', 'boosting_type': 'gbdt', 'bagging_freq': 1, 'device': 'gpu', 'verbose': -1, 'seed': 22, 'max_depth': 9, 'num_leaves': 255, 'learning_rate': 0.2939321920163492, 'feature_fraction': 0.7438914271289473, 'bagging_fraction': 0.7846849341550665, 'min_child_samples': 6, 'reg_alpha': 8.076685174310295, 'reg_lambda': 0.0830674404783576}. Best is trial 10 with value: 330.42048488389895.\n",
            "[I 2025-08-29 15:07:53,024] Trial 13 finished with value: 341.50011178804823 and parameters: {'objective': 'regression', 'metric': 'mse', 'boosting_type': 'gbdt', 'bagging_freq': 1, 'device': 'gpu', 'verbose': -1, 'seed': 22, 'max_depth': 9, 'num_leaves': 44, 'learning_rate': 0.12259400677193305, 'feature_fraction': 0.7512001497820657, 'bagging_fraction': 0.7288434009368022, 'min_child_samples': 48, 'reg_alpha': 8.020295014773922, 'reg_lambda': 0.025754006112067386}. Best is trial 10 with value: 330.42048488389895.\n",
            "[I 2025-08-29 15:07:54,439] Trial 14 finished with value: 331.2773289441607 and parameters: {'objective': 'regression', 'metric': 'mse', 'boosting_type': 'gbdt', 'bagging_freq': 1, 'device': 'gpu', 'verbose': -1, 'seed': 22, 'max_depth': 8, 'num_leaves': 255, 'learning_rate': 0.26137852480398377, 'feature_fraction': 0.7572174122555739, 'bagging_fraction': 0.8220246701056395, 'min_child_samples': 7, 'reg_alpha': 2.2089725562335345, 'reg_lambda': 0.20198895116956392}. Best is trial 10 with value: 330.42048488389895.\n",
            "[I 2025-08-29 15:07:56,327] Trial 15 finished with value: 337.328380929604 and parameters: {'objective': 'regression', 'metric': 'mse', 'boosting_type': 'gbdt', 'bagging_freq': 1, 'device': 'gpu', 'verbose': -1, 'seed': 22, 'max_depth': 10, 'num_leaves': 220, 'learning_rate': 0.08475325811814385, 'feature_fraction': 0.6981329842459971, 'bagging_fraction': 0.8282114435882441, 'min_child_samples': 37, 'reg_alpha': 1.6237211897658839, 'reg_lambda': 0.15567986757415883}. Best is trial 10 with value: 330.42048488389895.\n",
            "[I 2025-08-29 15:07:58,603] Trial 16 finished with value: 571.5004011820891 and parameters: {'objective': 'regression', 'metric': 'mse', 'boosting_type': 'gbdt', 'bagging_freq': 1, 'device': 'gpu', 'verbose': -1, 'seed': 22, 'max_depth': 8, 'num_leaves': 227, 'learning_rate': 0.010768134170590873, 'feature_fraction': 0.6872335788786448, 'bagging_fraction': 0.7278261049120901, 'min_child_samples': 33, 'reg_alpha': 0.5623065746825716, 'reg_lambda': 0.019732419463885677}. Best is trial 10 with value: 330.42048488389895.\n",
            "[I 2025-08-29 15:08:00,323] Trial 17 finished with value: 345.12090779981344 and parameters: {'objective': 'regression', 'metric': 'mse', 'boosting_type': 'gbdt', 'bagging_freq': 1, 'device': 'gpu', 'verbose': -1, 'seed': 22, 'max_depth': 12, 'num_leaves': 147, 'learning_rate': 0.15476591367074602, 'feature_fraction': 0.7875136953708446, 'bagging_fraction': 0.8537034384121179, 'min_child_samples': 52, 'reg_alpha': 8.724957110201636, 'reg_lambda': 0.2612529691846062}. Best is trial 10 with value: 330.42048488389895.\n",
            "[I 2025-08-29 15:08:02,769] Trial 18 finished with value: 313.28299165943724 and parameters: {'objective': 'regression', 'metric': 'mse', 'boosting_type': 'gbdt', 'bagging_freq': 1, 'device': 'gpu', 'verbose': -1, 'seed': 22, 'max_depth': 10, 'num_leaves': 229, 'learning_rate': 0.06157366271765317, 'feature_fraction': 0.6545899638170656, 'bagging_fraction': 0.7516865875740123, 'min_child_samples': 13, 'reg_alpha': 0.013081812306701291, 'reg_lambda': 0.06803827535232987}. Best is trial 18 with value: 313.28299165943724.\n",
            "[I 2025-08-29 15:08:05,450] Trial 19 finished with value: 331.3656753920599 and parameters: {'objective': 'regression', 'metric': 'mse', 'boosting_type': 'gbdt', 'bagging_freq': 1, 'device': 'gpu', 'verbose': -1, 'seed': 22, 'max_depth': 11, 'num_leaves': 205, 'learning_rate': 0.04770818507380647, 'feature_fraction': 0.6549213914577399, 'bagging_fraction': 0.6019418008252242, 'min_child_samples': 27, 'reg_alpha': 0.015121224507773418, 'reg_lambda': 0.019000524742088045}. Best is trial 18 with value: 313.28299165943724.\n",
            "[I 2025-08-29 15:08:07,269] Trial 20 finished with value: 431.702805478601 and parameters: {'objective': 'regression', 'metric': 'mse', 'boosting_type': 'gbdt', 'bagging_freq': 1, 'device': 'gpu', 'verbose': -1, 'seed': 22, 'max_depth': 11, 'num_leaves': 47, 'learning_rate': 0.017623423282217353, 'feature_fraction': 0.6542619932379451, 'bagging_fraction': 0.7255594753280911, 'min_child_samples': 65, 'reg_alpha': 0.013084366712720202, 'reg_lambda': 0.0014947156894983818}. Best is trial 18 with value: 313.28299165943724.\n",
            "[I 2025-08-29 15:08:09,024] Trial 21 finished with value: 317.16955873692507 and parameters: {'objective': 'regression', 'metric': 'mse', 'boosting_type': 'gbdt', 'bagging_freq': 1, 'device': 'gpu', 'verbose': -1, 'seed': 22, 'max_depth': 9, 'num_leaves': 233, 'learning_rate': 0.10314747964462313, 'feature_fraction': 0.7210077151429889, 'bagging_fraction': 0.7643600486975105, 'min_child_samples': 11, 'reg_alpha': 0.009593138719343865, 'reg_lambda': 0.06767483079605788}. Best is trial 18 with value: 313.28299165943724.\n",
            "[I 2025-08-29 15:08:10,982] Trial 22 finished with value: 321.2431585053982 and parameters: {'objective': 'regression', 'metric': 'mse', 'boosting_type': 'gbdt', 'bagging_freq': 1, 'device': 'gpu', 'verbose': -1, 'seed': 22, 'max_depth': 10, 'num_leaves': 208, 'learning_rate': 0.0948227285750924, 'feature_fraction': 0.7935418205668832, 'bagging_fraction': 0.759811242025778, 'min_child_samples': 16, 'reg_alpha': 0.01077185881879913, 'reg_lambda': 0.05936974145532062}. Best is trial 18 with value: 313.28299165943724.\n",
            "[I 2025-08-29 15:08:12,897] Trial 23 finished with value: 323.94836894241143 and parameters: {'objective': 'regression', 'metric': 'mse', 'boosting_type': 'gbdt', 'bagging_freq': 1, 'device': 'gpu', 'verbose': -1, 'seed': 22, 'max_depth': 10, 'num_leaves': 209, 'learning_rate': 0.0953844961669841, 'feature_fraction': 0.7884917850736234, 'bagging_fraction': 0.7587150135646913, 'min_child_samples': 16, 'reg_alpha': 0.008547294466588497, 'reg_lambda': 0.046477398929874125}. Best is trial 18 with value: 313.28299165943724.\n",
            "[I 2025-08-29 15:08:14,976] Trial 24 finished with value: 344.93066512019766 and parameters: {'objective': 'regression', 'metric': 'mse', 'boosting_type': 'gbdt', 'bagging_freq': 1, 'device': 'gpu', 'verbose': -1, 'seed': 22, 'max_depth': 8, 'num_leaves': 155, 'learning_rate': 0.02790518579144692, 'feature_fraction': 0.6024819793085203, 'bagging_fraction': 0.6810958055187012, 'min_child_samples': 28, 'reg_alpha': 0.005583284675492039, 'reg_lambda': 0.007634630477405759}. Best is trial 18 with value: 313.28299165943724.\n",
            "[I 2025-08-29 15:08:17,392] Trial 25 finished with value: 319.6531979475104 and parameters: {'objective': 'regression', 'metric': 'mse', 'boosting_type': 'gbdt', 'bagging_freq': 1, 'device': 'gpu', 'verbose': -1, 'seed': 22, 'max_depth': 10, 'num_leaves': 230, 'learning_rate': 0.06040011538067821, 'feature_fraction': 0.779287602688846, 'bagging_fraction': 0.7532175607679062, 'min_child_samples': 14, 'reg_alpha': 0.022986148018340133, 'reg_lambda': 0.041446222213160806}. Best is trial 18 with value: 313.28299165943724.\n",
            "[I 2025-08-29 15:08:19,897] Trial 26 finished with value: 339.0809602062121 and parameters: {'objective': 'regression', 'metric': 'mse', 'boosting_type': 'gbdt', 'bagging_freq': 1, 'device': 'gpu', 'verbose': -1, 'seed': 22, 'max_depth': 11, 'num_leaves': 231, 'learning_rate': 0.046158908964781725, 'feature_fraction': 0.6702777140139837, 'bagging_fraction': 0.6755564323694757, 'min_child_samples': 45, 'reg_alpha': 0.029352567316096423, 'reg_lambda': 0.02500003614020625}. Best is trial 18 with value: 313.28299165943724.\n",
            "[I 2025-08-29 15:08:21,661] Trial 27 finished with value: 418.7104808928602 and parameters: {'objective': 'regression', 'metric': 'mse', 'boosting_type': 'gbdt', 'bagging_freq': 1, 'device': 'gpu', 'verbose': -1, 'seed': 22, 'max_depth': 7, 'num_leaves': 194, 'learning_rate': 0.01710180699153778, 'feature_fraction': 0.765488165199893, 'bagging_fraction': 0.7500389095476574, 'min_child_samples': 40, 'reg_alpha': 0.0023313788160261723, 'reg_lambda': 0.36083415587950934}. Best is trial 18 with value: 313.28299165943724.\n",
            "[I 2025-08-29 15:08:24,517] Trial 28 finished with value: 315.35109302759975 and parameters: {'objective': 'regression', 'metric': 'mse', 'boosting_type': 'gbdt', 'bagging_freq': 1, 'device': 'gpu', 'verbose': -1, 'seed': 22, 'max_depth': 12, 'num_leaves': 224, 'learning_rate': 0.06842235598585493, 'feature_fraction': 0.7116249873462326, 'bagging_fraction': 0.6407826204634117, 'min_child_samples': 13, 'reg_alpha': 0.026125977827597333, 'reg_lambda': 0.0034752242573426024}. Best is trial 18 with value: 313.28299165943724.\n",
            "[I 2025-08-29 15:08:26,342] Trial 29 finished with value: 349.3418260954307 and parameters: {'objective': 'regression', 'metric': 'mse', 'boosting_type': 'gbdt', 'bagging_freq': 1, 'device': 'gpu', 'verbose': -1, 'seed': 22, 'max_depth': 12, 'num_leaves': 161, 'learning_rate': 0.16469799658901466, 'feature_fraction': 0.7119347137409718, 'bagging_fraction': 0.6196607292507235, 'min_child_samples': 24, 'reg_alpha': 0.005584945722479154, 'reg_lambda': 0.0038187446072363703}. Best is trial 18 with value: 313.28299165943724.\n"
          ]
        },
        {
          "name": "stdout",
          "output_type": "stream",
          "text": [
            "En iyi parametreler: {'objective': 'regression', 'metric': 'mse', 'boosting_type': 'gbdt', 'bagging_freq': 1, 'device': 'gpu', 'verbose': -1, 'seed': 22, 'max_depth': 10, 'num_leaves': 229, 'learning_rate': 0.06157366271765317, 'feature_fraction': 0.6545899638170656, 'bagging_fraction': 0.7516865875740123, 'min_child_samples': 13, 'reg_alpha': 0.013081812306701291, 'reg_lambda': 0.06803827535232987}\n",
            "En iyi doğruluk: 313.28299165943724\n"
          ]
        }
      ],
      "source": [
        "study = optuna.create_study(direction='minimize',study_name=\"BTK\")\n",
        "study.optimize(objective_lgbm, n_trials=30)\n",
        "\n",
        "print(\"En iyi parametreler:\", study.best_params)\n",
        "print(\"En iyi doğruluk:\", study.best_value)"
      ]
    },
    {
      "cell_type": "markdown",
      "id": "2f4eb172",
      "metadata": {
        "id": "2f4eb172"
      },
      "source": [
        "# XGBoost"
      ]
    },
    {
      "cell_type": "code",
      "execution_count": null,
      "id": "58d9f61b",
      "metadata": {
        "id": "58d9f61b"
      },
      "outputs": [],
      "source": [
        "def objective_xgb(trial):\n",
        "    param_constant = {\n",
        "        \"objective\" : trial.suggest_categorical(\"objective\", [\"reg:squarederror\"]),\n",
        "        \"device\" : trial.suggest_categorical(\"device\", [\"gpu\"]),\n",
        "        #\"verbose\" : trial.suggest_categorical(\"verbose\", [-1]),\n",
        "        \"random_state\" : trial.suggest_categorical(\"random_state\", [seed]),\n",
        "    }\n",
        "    param = {\n",
        "        \"eta\": trial.suggest_float(\"eta\", 0.01, 0.3, log=True),\n",
        "        \"gamma\": trial.suggest_float(\"gamma\", 1e-3,10.0,log=True),\n",
        "        \"max_depth\": trial.suggest_int(\"max_depth\", 3, 15),\n",
        "        \"min_child_weight\": trial.suggest_int(\"min_child_weight\", 1, 100),\n",
        "        \"max_delta_step\": trial.suggest_int(\"max_delta_step\", 0,  10),\n",
        "        \"subsample\": trial.suggest_float(\"subsample\", 0.2 , 1.0),\n",
        "\n",
        "        \"colsample_bytree\": trial.suggest_float(\"colsample_bytree\", 0.2, 1.0),\n",
        "        \"colsample_bylevel\": trial.suggest_float(\"colsample_bylevel\", 0.2, 1.0),\n",
        "        \"colsample_bynode\": trial.suggest_float(\"colsample_bynode\", 0.2, 1.0),\n",
        "        #\"boosting_type\" : trial.suggest_categorical(\"boosting_type\", [\"gbtree\",\"gblinear\",\"dart\"]),\n",
        "\n",
        "        \"lambda\": trial.suggest_float(\"lambda\", 1e-3, 20.0, log=True),\n",
        "        \"alpha\": trial.suggest_float(\"alpha\", 1e-3, 20.0, log=True),\n",
        "        \"n_estimators\": trial.suggest_int(\"n_estimators\", 100, 2000),\n",
        "    }\n",
        "\n",
        "    if os.path.exists(\"./results.csv\"):\n",
        "        results = pd.read_csv(\"./results.csv\")\n",
        "    else:\n",
        "        results = pd.DataFrame()\n",
        "\n",
        "    cv=TimeSeriesSplit(n_splits=4)\n",
        "    scores_list = []\n",
        "    for fold, (train_idx, test_idx) in enumerate(cv.split(train)):\n",
        "        train_x , val_x = x.iloc[train_idx] , x.iloc[test_idx]\n",
        "        train_y , val_y = y.iloc[train_idx] , y.iloc[test_idx]\n",
        "        #print(f\"Fold {fold+1}\",train_x.shape,train_y.shape,val_x.shape,val_y.shape)\n",
        "        model = XGBRegressor(**param,**param_constant)\n",
        "        model.fit(train_x,train_y)\n",
        "        prediction = model.predict(val_x)\n",
        "        mse = mean_squared_error(val_y,prediction)\n",
        "        scores_list.append(mse)\n",
        "\n",
        "    df = pd.DataFrame([{\n",
        "        \"model\":\"xgb\",\n",
        "        \"fold0\": scores_list[0],\n",
        "        \"fold1\": scores_list[1],\n",
        "        \"fold2\": scores_list[2],\n",
        "        \"fold3\": scores_list[3],\n",
        "        \"hyperparameters\": {**param,**param_constant},\n",
        "    }])\n",
        "    results = pd.concat([results,df],ignore_index=True)\n",
        "    results.to_csv(\"./results.csv\", index=False)\n",
        "\n",
        "    return np.mean(scores_list)"
      ]
    },
    {
      "cell_type": "code",
      "execution_count": null,
      "id": "7d38d8dc",
      "metadata": {
        "id": "7d38d8dc",
        "outputId": "8514c22c-9ce1-4800-8aca-d78c04c49237"
      },
      "outputs": [
        {
          "name": "stderr",
          "output_type": "stream",
          "text": [
            "[I 2025-08-28 13:46:33,280] A new study created in memory with name: BTK\n",
            "sh: 1: nvidia-smi: not found\n",
            "[I 2025-08-28 13:47:05,647] Trial 0 finished with value: 393.3774447861857 and parameters: {'objective': 'reg:squarederror', 'device': 'gpu', 'random_state': 22, 'eta': 0.06135367156054932, 'gamma': 1.3420806916262773, 'max_depth': 12, 'min_child_weight': 20, 'max_delta_step': 0, 'subsample': 0.9442896999743711, 'colsample_bytree': 0.9917181509433546, 'colsample_bylevel': 0.7085777137062459, 'colsample_bynode': 0.5914579780006612, 'lambda': 0.0027758118406004347, 'alpha': 0.4524196550597537, 'n_estimators': 885}. Best is trial 0 with value: 393.3774447861857.\n",
            "[I 2025-08-28 13:47:30,007] Trial 1 finished with value: 383.7940578048996 and parameters: {'objective': 'reg:squarederror', 'device': 'gpu', 'random_state': 22, 'eta': 0.09360749750936005, 'gamma': 2.8897520629707674, 'max_depth': 9, 'min_child_weight': 10, 'max_delta_step': 7, 'subsample': 0.24062899210207497, 'colsample_bytree': 0.5860835690564599, 'colsample_bylevel': 0.4085296272167105, 'colsample_bynode': 0.5616901186649448, 'lambda': 0.002412027492055828, 'alpha': 0.03537385859555498, 'n_estimators': 1284}. Best is trial 1 with value: 383.7940578048996.\n",
            "[I 2025-08-28 13:47:37,178] Trial 2 finished with value: 378.39689331858074 and parameters: {'objective': 'reg:squarederror', 'device': 'gpu', 'random_state': 22, 'eta': 0.18250034256075756, 'gamma': 0.0025836865674890882, 'max_depth': 5, 'min_child_weight': 19, 'max_delta_step': 7, 'subsample': 0.8957559365304499, 'colsample_bytree': 0.5452234638903037, 'colsample_bylevel': 0.2026723140214015, 'colsample_bynode': 0.6285799741381962, 'lambda': 0.0011421703157101773, 'alpha': 0.004085298175445725, 'n_estimators': 1115}. Best is trial 2 with value: 378.39689331858074.\n",
            "[I 2025-08-28 13:48:12,052] Trial 3 finished with value: 409.7225884132723 and parameters: {'objective': 'reg:squarederror', 'device': 'gpu', 'random_state': 22, 'eta': 0.05983996332187207, 'gamma': 0.21663665330077111, 'max_depth': 11, 'min_child_weight': 87, 'max_delta_step': 8, 'subsample': 0.2742394051322899, 'colsample_bytree': 0.37933570377144304, 'colsample_bylevel': 0.8649872200134352, 'colsample_bynode': 0.7762579488215429, 'lambda': 2.232223032589435, 'alpha': 1.5952277043188527, 'n_estimators': 1918}. Best is trial 2 with value: 378.39689331858074.\n",
            "[I 2025-08-28 13:48:35,647] Trial 4 finished with value: 452.5006251142236 and parameters: {'objective': 'reg:squarederror', 'device': 'gpu', 'random_state': 22, 'eta': 0.12048537899489122, 'gamma': 0.3218643768304299, 'max_depth': 11, 'min_child_weight': 53, 'max_delta_step': 2, 'subsample': 0.9412695142369973, 'colsample_bytree': 0.5751844597285358, 'colsample_bylevel': 0.5184466113866864, 'colsample_bynode': 0.20993372161012785, 'lambda': 0.10933161392615147, 'alpha': 1.8615501335287492, 'n_estimators': 1587}. Best is trial 2 with value: 378.39689331858074.\n",
            "[I 2025-08-28 13:48:45,494] Trial 5 finished with value: 732.8196284735052 and parameters: {'objective': 'reg:squarederror', 'device': 'gpu', 'random_state': 22, 'eta': 0.02456761212783281, 'gamma': 3.9112308512484293, 'max_depth': 9, 'min_child_weight': 92, 'max_delta_step': 8, 'subsample': 0.26037539254996905, 'colsample_bytree': 0.3825011404335237, 'colsample_bylevel': 0.28146330287533045, 'colsample_bynode': 0.8920599862947254, 'lambda': 0.026273153763481154, 'alpha': 0.008634726952348487, 'n_estimators': 1032}. Best is trial 2 with value: 378.39689331858074.\n",
            "[I 2025-08-28 13:49:28,214] Trial 6 finished with value: 415.3280110710773 and parameters: {'objective': 'reg:squarederror', 'device': 'gpu', 'random_state': 22, 'eta': 0.08221440308328809, 'gamma': 6.40775682357373, 'max_depth': 14, 'min_child_weight': 27, 'max_delta_step': 5, 'subsample': 0.8196448775323892, 'colsample_bytree': 0.5678447536153701, 'colsample_bylevel': 0.6648625863185165, 'colsample_bynode': 0.9013343786029979, 'lambda': 0.12925553213152102, 'alpha': 0.07388778797759508, 'n_estimators': 768}. Best is trial 2 with value: 378.39689331858074.\n",
            "[I 2025-08-28 13:51:25,195] Trial 7 finished with value: 437.7250494494941 and parameters: {'objective': 'reg:squarederror', 'device': 'gpu', 'random_state': 22, 'eta': 0.2300411996434824, 'gamma': 1.2020543621717668, 'max_depth': 14, 'min_child_weight': 8, 'max_delta_step': 7, 'subsample': 0.7650254418629143, 'colsample_bytree': 0.478243777446035, 'colsample_bylevel': 0.9199861526465654, 'colsample_bynode': 0.43289437473206543, 'lambda': 8.172793451490215, 'alpha': 0.002152404727198533, 'n_estimators': 1405}. Best is trial 2 with value: 378.39689331858074.\n",
            "[I 2025-08-28 13:51:27,779] Trial 8 finished with value: 556.3077111076667 and parameters: {'objective': 'reg:squarederror', 'device': 'gpu', 'random_state': 22, 'eta': 0.22507361563370296, 'gamma': 0.0038464790270337384, 'max_depth': 12, 'min_child_weight': 100, 'max_delta_step': 0, 'subsample': 0.4322118017117741, 'colsample_bytree': 0.4348072139047032, 'colsample_bylevel': 0.2586256062092249, 'colsample_bynode': 0.4952779672391831, 'lambda': 0.0026403072460246322, 'alpha': 0.0768533400937249, 'n_estimators': 785}. Best is trial 2 with value: 378.39689331858074.\n",
            "[I 2025-08-28 13:51:33,600] Trial 9 finished with value: 406.16733969664773 and parameters: {'objective': 'reg:squarederror', 'device': 'gpu', 'random_state': 22, 'eta': 0.16171889129457603, 'gamma': 0.004643621135857286, 'max_depth': 6, 'min_child_weight': 77, 'max_delta_step': 3, 'subsample': 0.6237808791907982, 'colsample_bytree': 0.8689462669707975, 'colsample_bylevel': 0.635906866616558, 'colsample_bynode': 0.7745499529085658, 'lambda': 0.7269892917265126, 'alpha': 0.6288147474354215, 'n_estimators': 649}. Best is trial 2 with value: 378.39689331858074.\n",
            "[I 2025-08-28 13:51:34,670] Trial 10 finished with value: 1785.2569121708434 and parameters: {'objective': 'reg:squarederror', 'device': 'gpu', 'random_state': 22, 'eta': 0.023434508665944747, 'gamma': 0.02333697581363186, 'max_depth': 3, 'min_child_weight': 40, 'max_delta_step': 5, 'subsample': 0.61092384182122, 'colsample_bytree': 0.20714353634766003, 'colsample_bylevel': 0.4201337421939777, 'colsample_bynode': 0.2565345375192409, 'lambda': 0.013971151641580177, 'alpha': 0.0014437107706035915, 'n_estimators': 234}. Best is trial 2 with value: 378.39689331858074.\n",
            "[I 2025-08-28 13:51:50,273] Trial 11 finished with value: 356.15828218277125 and parameters: {'objective': 'reg:squarederror', 'device': 'gpu', 'random_state': 22, 'eta': 0.12602550628993608, 'gamma': 0.0012094297387437965, 'max_depth': 6, 'min_child_weight': 3, 'max_delta_step': 10, 'subsample': 0.4426637284965327, 'colsample_bytree': 0.7549489949311212, 'colsample_bylevel': 0.3893169038523091, 'colsample_bynode': 0.6773027422478134, 'lambda': 0.0010283294841824577, 'alpha': 0.017910534486715295, 'n_estimators': 1364}. Best is trial 11 with value: 356.15828218277125.\n",
            "[I 2025-08-28 13:52:03,840] Trial 12 finished with value: 550.0509182001742 and parameters: {'objective': 'reg:squarederror', 'device': 'gpu', 'random_state': 22, 'eta': 0.012198699324533364, 'gamma': 0.0010194108965067825, 'max_depth': 5, 'min_child_weight': 3, 'max_delta_step': 10, 'subsample': 0.44586439060412586, 'colsample_bytree': 0.7760621833718576, 'colsample_bylevel': 0.20014929232287992, 'colsample_bynode': 0.7095850950118663, 'lambda': 0.0012277959122965136, 'alpha': 0.009710208152814892, 'n_estimators': 1680}. Best is trial 11 with value: 356.15828218277125.\n",
            "[I 2025-08-28 13:52:13,590] Trial 13 finished with value: 424.49669357107234 and parameters: {'objective': 'reg:squarederror', 'device': 'gpu', 'random_state': 22, 'eta': 0.2768697517813503, 'gamma': 0.013525471561500338, 'max_depth': 6, 'min_child_weight': 32, 'max_delta_step': 10, 'subsample': 0.4025173289535424, 'colsample_bytree': 0.7532592966097372, 'colsample_bylevel': 0.37237898504941885, 'colsample_bynode': 0.6917902871787885, 'lambda': 0.010295828740042003, 'alpha': 10.547901486160184, 'n_estimators': 1185}. Best is trial 11 with value: 356.15828218277125.\n",
            "[I 2025-08-28 13:52:15,007] Trial 14 finished with value: 464.0951199243647 and parameters: {'objective': 'reg:squarederror', 'device': 'gpu', 'random_state': 22, 'eta': 0.1449637609478675, 'gamma': 0.0013136691625849587, 'max_depth': 3, 'min_child_weight': 61, 'max_delta_step': 9, 'subsample': 0.7292064893315708, 'colsample_bytree': 0.7514902668128326, 'colsample_bylevel': 0.501844371229192, 'colsample_bynode': 0.37179146701177035, 'lambda': 0.0010738695758568918, 'alpha': 0.008552495950689737, 'n_estimators': 298}. Best is trial 11 with value: 356.15828218277125.\n",
            "[I 2025-08-28 13:52:41,353] Trial 15 finished with value: 425.83894119231144 and parameters: {'objective': 'reg:squarederror', 'device': 'gpu', 'random_state': 22, 'eta': 0.037063591995492674, 'gamma': 0.03886599796437752, 'max_depth': 8, 'min_child_weight': 18, 'max_delta_step': 5, 'subsample': 0.4888977529981904, 'colsample_bytree': 0.6884351093698614, 'colsample_bylevel': 0.33682823262417266, 'colsample_bynode': 0.9818469070087652, 'lambda': 0.028045743690219598, 'alpha': 0.02029916025399104, 'n_estimators': 1541}. Best is trial 11 with value: 356.15828218277125.\n",
            "[I 2025-08-28 13:52:56,346] Trial 16 finished with value: 388.8494032694014 and parameters: {'objective': 'reg:squarederror', 'device': 'gpu', 'random_state': 22, 'eta': 0.11463105169354997, 'gamma': 0.004932326029880156, 'max_depth': 5, 'min_child_weight': 1, 'max_delta_step': 6, 'subsample': 0.5176047266351462, 'colsample_bytree': 0.2145812290266787, 'colsample_bylevel': 0.5150094341067881, 'colsample_bynode': 0.6635329116123285, 'lambda': 0.005809409250683639, 'alpha': 0.00330998119826196, 'n_estimators': 1989}. Best is trial 11 with value: 356.15828218277125.\n",
            "[I 2025-08-28 13:53:07,361] Trial 17 finished with value: 400.82352418828646 and parameters: {'objective': 'reg:squarederror', 'device': 'gpu', 'random_state': 22, 'eta': 0.1658863689763514, 'gamma': 0.05976021868898095, 'max_depth': 7, 'min_child_weight': 41, 'max_delta_step': 9, 'subsample': 0.35340362433083755, 'colsample_bytree': 0.868527217176865, 'colsample_bylevel': 0.20819141970284116, 'colsample_bynode': 0.5313958377783161, 'lambda': 0.6472412589158208, 'alpha': 0.17145923696678103, 'n_estimators': 1087}. Best is trial 11 with value: 356.15828218277125.\n",
            "[I 2025-08-28 13:53:14,937] Trial 18 finished with value: 569.0165169572279 and parameters: {'objective': 'reg:squarederror', 'device': 'gpu', 'random_state': 22, 'eta': 0.040489373985896124, 'gamma': 0.010552998959646112, 'max_depth': 4, 'min_child_weight': 17, 'max_delta_step': 3, 'subsample': 0.8562717303662868, 'colsample_bytree': 0.6566943675965728, 'colsample_bylevel': 0.32463059024769314, 'colsample_bynode': 0.7932673352681551, 'lambda': 0.0505392733369193, 'alpha': 0.004133099417261976, 'n_estimators': 1362}. Best is trial 11 with value: 356.15828218277125.\n",
            "[I 2025-08-28 13:53:33,380] Trial 19 finished with value: 368.1425428463315 and parameters: {'objective': 'reg:squarederror', 'device': 'gpu', 'random_state': 22, 'eta': 0.0782162668867658, 'gamma': 0.0022132929035146597, 'max_depth': 7, 'min_child_weight': 33, 'max_delta_step': 7, 'subsample': 0.7119317404775323, 'colsample_bytree': 0.4976576750349626, 'colsample_bylevel': 0.45449312069170855, 'colsample_bynode': 0.6460887185254396, 'lambda': 0.006476176438625589, 'alpha': 0.0010701266184314322, 'n_estimators': 1744}. Best is trial 11 with value: 356.15828218277125.\n",
            "[I 2025-08-28 13:53:50,158] Trial 20 finished with value: 371.38989412191387 and parameters: {'objective': 'reg:squarederror', 'device': 'gpu', 'random_state': 22, 'eta': 0.08104105309475888, 'gamma': 0.010694185840096099, 'max_depth': 7, 'min_child_weight': 63, 'max_delta_step': 10, 'subsample': 0.6969241225131304, 'colsample_bytree': 0.3074826072884793, 'colsample_bylevel': 0.7826517248680971, 'colsample_bynode': 0.3954211244835057, 'lambda': 0.01028221802319578, 'alpha': 0.0011847750795819707, 'n_estimators': 1687}. Best is trial 11 with value: 356.15828218277125.\n",
            "[I 2025-08-28 13:54:05,900] Trial 21 finished with value: 385.71386848400294 and parameters: {'objective': 'reg:squarederror', 'device': 'gpu', 'random_state': 22, 'eta': 0.08155351430594744, 'gamma': 0.0019711841683880335, 'max_depth': 7, 'min_child_weight': 69, 'max_delta_step': 10, 'subsample': 0.6651076125837434, 'colsample_bytree': 0.30890420800869983, 'colsample_bylevel': 0.7691931491594839, 'colsample_bynode': 0.33008413677121085, 'lambda': 0.006449462499421201, 'alpha': 0.001162377288782295, 'n_estimators': 1745}. Best is trial 11 with value: 356.15828218277125.\n",
            "[I 2025-08-28 13:54:25,645] Trial 22 finished with value: 411.7163600610377 and parameters: {'objective': 'reg:squarederror', 'device': 'gpu', 'random_state': 22, 'eta': 0.04410931977085609, 'gamma': 0.00929364402040313, 'max_depth': 8, 'min_child_weight': 53, 'max_delta_step': 9, 'subsample': 0.5338957117727003, 'colsample_bytree': 0.3224845138895246, 'colsample_bylevel': 0.5699521126046142, 'colsample_bynode': 0.4711871999963043, 'lambda': 0.0052017461768553664, 'alpha': 0.0010952001199577913, 'n_estimators': 1810}. Best is trial 11 with value: 356.15828218277125.\n",
            "[I 2025-08-28 13:54:40,822] Trial 23 finished with value: 363.87633817456697 and parameters: {'objective': 'reg:squarederror', 'device': 'gpu', 'random_state': 22, 'eta': 0.07451909592692062, 'gamma': 0.006634352545784437, 'max_depth': 7, 'min_child_weight': 43, 'max_delta_step': 8, 'subsample': 0.7062175351449844, 'colsample_bytree': 0.5058092251928125, 'colsample_bylevel': 0.7639295716978876, 'colsample_bynode': 0.4090395151578969, 'lambda': 0.02109610646050518, 'alpha': 0.020849098902710392, 'n_estimators': 1464}. Best is trial 11 with value: 356.15828218277125.\n",
            "[I 2025-08-28 13:55:02,548] Trial 24 finished with value: 380.6436150826726 and parameters: {'objective': 'reg:squarederror', 'device': 'gpu', 'random_state': 22, 'eta': 0.12297402922676112, 'gamma': 0.0020588549502693256, 'max_depth': 9, 'min_child_weight': 34, 'max_delta_step': 8, 'subsample': 0.7803305385118467, 'colsample_bytree': 0.5172985336065078, 'colsample_bylevel': 0.9934063220572681, 'colsample_bynode': 0.617769255006226, 'lambda': 0.04737275824504483, 'alpha': 0.023300237395769877, 'n_estimators': 1458}. Best is trial 11 with value: 356.15828218277125.\n",
            "[I 2025-08-28 13:55:13,500] Trial 25 finished with value: 366.29798968937985 and parameters: {'objective': 'reg:squarederror', 'device': 'gpu', 'random_state': 22, 'eta': 0.05631346422478829, 'gamma': 0.004824232079632014, 'max_depth': 6, 'min_child_weight': 44, 'max_delta_step': 8, 'subsample': 0.5580374034668119, 'colsample_bytree': 0.6568559822047078, 'colsample_bylevel': 0.43726729073795484, 'colsample_bynode': 0.7307966914175575, 'lambda': 0.020486440963054985, 'alpha': 0.15638451036489506, 'n_estimators': 1278}. Best is trial 11 with value: 356.15828218277125.\n",
            "[I 2025-08-28 13:55:20,844] Trial 26 finished with value: 445.02287577970475 and parameters: {'objective': 'reg:squarederror', 'device': 'gpu', 'random_state': 22, 'eta': 0.032100246831849685, 'gamma': 0.12501516248862327, 'max_depth': 4, 'min_child_weight': 44, 'max_delta_step': 6, 'subsample': 0.5803946864629986, 'colsample_bytree': 0.6494223068471424, 'colsample_bylevel': 0.5715595970111801, 'colsample_bynode': 0.8310488632588359, 'lambda': 0.45874473807945954, 'alpha': 0.23245355371421395, 'n_estimators': 1329}. Best is trial 11 with value: 356.15828218277125.\n",
            "[I 2025-08-28 13:55:30,882] Trial 27 finished with value: 366.6149066721117 and parameters: {'objective': 'reg:squarederror', 'device': 'gpu', 'random_state': 22, 'eta': 0.054364836226358015, 'gamma': 0.02563534294381551, 'max_depth': 6, 'min_child_weight': 45, 'max_delta_step': 9, 'subsample': 0.3401764317303634, 'colsample_bytree': 0.8435479165038999, 'colsample_bylevel': 0.7520853791512392, 'colsample_bynode': 0.733049561271381, 'lambda': 0.2754968467895058, 'alpha': 0.047857023068490205, 'n_estimators': 1228}. Best is trial 11 with value: 356.15828218277125.\n",
            "[I 2025-08-28 13:55:49,652] Trial 28 finished with value: 378.7996694504617 and parameters: {'objective': 'reg:squarederror', 'device': 'gpu', 'random_state': 22, 'eta': 0.051982502339477044, 'gamma': 0.005542211706220363, 'max_depth': 8, 'min_child_weight': 75, 'max_delta_step': 8, 'subsample': 0.5578989352515712, 'colsample_bytree': 0.6861973935560309, 'colsample_bylevel': 0.8399368986780928, 'colsample_bynode': 0.3117570602652289, 'lambda': 0.07984169932524361, 'alpha': 0.016020581875545524, 'n_estimators': 1522}. Best is trial 11 with value: 356.15828218277125.\n",
            "[I 2025-08-28 13:56:12,937] Trial 29 finished with value: 384.9133886327747 and parameters: {'objective': 'reg:squarederror', 'device': 'gpu', 'random_state': 22, 'eta': 0.06366889870125854, 'gamma': 0.0010779151193584396, 'max_depth': 10, 'min_child_weight': 26, 'max_delta_step': 6, 'subsample': 0.4879806923077164, 'colsample_bytree': 0.9955775510575087, 'colsample_bylevel': 0.6768421793741444, 'colsample_bynode': 0.5321323108461655, 'lambda': 0.02025042496657243, 'alpha': 0.47266421787240726, 'n_estimators': 1017}. Best is trial 11 with value: 356.15828218277125.\n",
            "[I 2025-08-28 13:56:17,980] Trial 30 finished with value: 385.5638346027332 and parameters: {'objective': 'reg:squarederror', 'device': 'gpu', 'random_state': 22, 'eta': 0.09891323066064252, 'gamma': 0.6803628132042663, 'max_depth': 4, 'min_child_weight': 56, 'max_delta_step': 4, 'subsample': 0.9888601418764986, 'colsample_bytree': 0.9358841052440365, 'colsample_bylevel': 0.4623330906104307, 'colsample_bynode': 0.8973032150966136, 'lambda': 17.953055676563398, 'alpha': 0.22455925042427136, 'n_estimators': 905}. Best is trial 11 with value: 356.15828218277125.\n",
            "[I 2025-08-28 13:56:27,666] Trial 31 finished with value: 368.0422004511423 and parameters: {'objective': 'reg:squarederror', 'device': 'gpu', 'random_state': 22, 'eta': 0.06507124685639351, 'gamma': 0.022567119559333656, 'max_depth': 6, 'min_child_weight': 45, 'max_delta_step': 9, 'subsample': 0.34005450053029457, 'colsample_bytree': 0.8163603869711482, 'colsample_bylevel': 0.7164674388517245, 'colsample_bynode': 0.7237738489031922, 'lambda': 0.3118524515558573, 'alpha': 0.060837955133645226, 'n_estimators': 1198}. Best is trial 11 with value: 356.15828218277125.\n",
            "[I 2025-08-28 13:56:37,920] Trial 32 finished with value: 381.2732552013264 and parameters: {'objective': 'reg:squarederror', 'device': 'gpu', 'random_state': 22, 'eta': 0.04995276636442809, 'gamma': 0.02261302558679298, 'max_depth': 6, 'min_child_weight': 48, 'max_delta_step': 9, 'subsample': 0.32943787013592296, 'colsample_bytree': 0.630587095220924, 'colsample_bylevel': 0.7905018270831095, 'colsample_bynode': 0.5742530323314127, 'lambda': 0.24606103783399047, 'alpha': 0.03962054549427697, 'n_estimators': 1216}. Best is trial 11 with value: 356.15828218277125.\n",
            "[I 2025-08-28 13:56:50,140] Trial 33 finished with value: 396.14465296169146 and parameters: {'objective': 'reg:squarederror', 'device': 'gpu', 'random_state': 22, 'eta': 0.028199367055447355, 'gamma': 0.05328164530957241, 'max_depth': 6, 'min_child_weight': 37, 'max_delta_step': 8, 'subsample': 0.400722911984459, 'colsample_bytree': 0.9026897060617792, 'colsample_bylevel': 0.7417360924704863, 'colsample_bynode': 0.7420992308609637, 'lambda': 1.2300702733420334, 'alpha': 0.12040231564670231, 'n_estimators': 1377}. Best is trial 11 with value: 356.15828218277125.\n",
            "[I 2025-08-28 13:56:58,566] Trial 34 finished with value: 341.64414063306685 and parameters: {'objective': 'reg:squarederror', 'device': 'gpu', 'random_state': 22, 'eta': 0.06805925858288127, 'gamma': 0.007598560661707519, 'max_depth': 5, 'min_child_weight': 26, 'max_delta_step': 10, 'subsample': 0.6501883007229573, 'colsample_bytree': 0.8024275970546287, 'colsample_bylevel': 0.83207869249364, 'colsample_bynode': 0.8330850030340746, 'lambda': 0.20263332224150976, 'alpha': 0.04126849049726349, 'n_estimators': 1262}. Best is trial 34 with value: 341.64414063306685.\n",
            "[I 2025-08-28 13:57:05,290] Trial 35 finished with value: 353.07837793973846 and parameters: {'objective': 'reg:squarederror', 'device': 'gpu', 'random_state': 22, 'eta': 0.09759309770759018, 'gamma': 0.0032143955737468826, 'max_depth': 5, 'min_child_weight': 11, 'max_delta_step': 10, 'subsample': 0.20579565609920275, 'colsample_bytree': 0.7319415096345289, 'colsample_bylevel': 0.8461405824535809, 'colsample_bynode': 0.8272039372243549, 'lambda': 0.07071662496638813, 'alpha': 0.02307631663093796, 'n_estimators': 946}. Best is trial 34 with value: 341.64414063306685.\n",
            "[I 2025-08-28 13:57:12,041] Trial 36 finished with value: 348.9143573010691 and parameters: {'objective': 'reg:squarederror', 'device': 'gpu', 'random_state': 22, 'eta': 0.10193970461286574, 'gamma': 0.0029704410810027595, 'max_depth': 5, 'min_child_weight': 13, 'max_delta_step': 10, 'subsample': 0.21797483102984408, 'colsample_bytree': 0.7907384372126753, 'colsample_bylevel': 0.902476849799378, 'colsample_bynode': 0.8232998844080219, 'lambda': 0.06485100708532414, 'alpha': 0.01228184628576109, 'n_estimators': 977}. Best is trial 34 with value: 341.64414063306685.\n",
            "[I 2025-08-28 13:57:18,492] Trial 37 finished with value: 347.252707957392 and parameters: {'objective': 'reg:squarederror', 'device': 'gpu', 'random_state': 22, 'eta': 0.10433143013169673, 'gamma': 0.002095103305310677, 'max_depth': 5, 'min_child_weight': 12, 'max_delta_step': 10, 'subsample': 0.21528702351786655, 'colsample_bytree': 0.7964486453311981, 'colsample_bylevel': 0.9298233682388153, 'colsample_bynode': 0.8407576221373694, 'lambda': 2.8699892535662954, 'alpha': 0.006172451093803922, 'n_estimators': 918}. Best is trial 34 with value: 341.64414063306685.\n",
            "[I 2025-08-28 13:57:21,925] Trial 38 finished with value: 370.96968139119986 and parameters: {'objective': 'reg:squarederror', 'device': 'gpu', 'random_state': 22, 'eta': 0.09999535104665665, 'gamma': 0.0029680915577312635, 'max_depth': 5, 'min_child_weight': 12, 'max_delta_step': 10, 'subsample': 0.20374381487772597, 'colsample_bytree': 0.7946319510417672, 'colsample_bylevel': 0.9266706619302028, 'colsample_bynode': 0.961531694795675, 'lambda': 2.1310924234598754, 'alpha': 0.006825015067784173, 'n_estimators': 455}. Best is trial 34 with value: 341.64414063306685.\n",
            "[I 2025-08-28 13:57:26,774] Trial 39 finished with value: 768.9232554853293 and parameters: {'objective': 'reg:squarederror', 'device': 'gpu', 'random_state': 22, 'eta': 0.101392930276638, 'gamma': 0.003006962875637266, 'max_depth': 4, 'min_child_weight': 25, 'max_delta_step': 1, 'subsample': 0.20063546491432183, 'colsample_bytree': 0.710570076368222, 'colsample_bylevel': 0.8810259870680952, 'colsample_bynode': 0.8401700099362182, 'lambda': 4.31646963118201, 'alpha': 0.004540315553237439, 'n_estimators': 920}. Best is trial 34 with value: 341.64414063306685.\n",
            "[I 2025-08-28 13:58:01,730] Trial 40 finished with value: 461.38282245115477 and parameters: {'objective': 'reg:squarederror', 'device': 'gpu', 'random_state': 22, 'eta': 0.20843275075031567, 'gamma': 0.0070446890336363305, 'max_depth': 15, 'min_child_weight': 12, 'max_delta_step': 10, 'subsample': 0.2965363445029513, 'colsample_bytree': 0.9355539488295075, 'colsample_bylevel': 0.9734060193639994, 'colsample_bynode': 0.932624759515206, 'lambda': 0.1463675278145816, 'alpha': 0.01107727190846962, 'n_estimators': 623}. Best is trial 34 with value: 341.64414063306685.\n",
            "[I 2025-08-28 13:58:05,838] Trial 41 finished with value: 345.9022989616915 and parameters: {'objective': 'reg:squarederror', 'device': 'gpu', 'random_state': 22, 'eta': 0.12885844631910917, 'gamma': 0.001857104586680802, 'max_depth': 3, 'min_child_weight': 7, 'max_delta_step': 10, 'subsample': 0.24320278222175398, 'colsample_bytree': 0.7497530242914189, 'colsample_bylevel': 0.828853318429574, 'colsample_bynode': 0.8477673092221865, 'lambda': 5.494968120830475, 'alpha': 0.03261346277107027, 'n_estimators': 983}. Best is trial 34 with value: 341.64414063306685.\n",
            "[I 2025-08-28 13:58:09,193] Trial 42 finished with value: 346.59299724745966 and parameters: {'objective': 'reg:squarederror', 'device': 'gpu', 'random_state': 22, 'eta': 0.13912369486995577, 'gamma': 0.0016128617752679912, 'max_depth': 3, 'min_child_weight': 9, 'max_delta_step': 9, 'subsample': 0.24899247129817692, 'colsample_bytree': 0.7161650647966313, 'colsample_bylevel': 0.8410045980744416, 'colsample_bynode': 0.8403769791884292, 'lambda': 12.914503421331077, 'alpha': 0.029252092934696865, 'n_estimators': 797}. Best is trial 34 with value: 341.64414063306685.\n",
            "[I 2025-08-28 13:58:12,469] Trial 43 finished with value: 356.6725589044912 and parameters: {'objective': 'reg:squarederror', 'device': 'gpu', 'random_state': 22, 'eta': 0.15482236636469535, 'gamma': 0.0014739946651555816, 'max_depth': 3, 'min_child_weight': 21, 'max_delta_step': 9, 'subsample': 0.25736129011651443, 'colsample_bytree': 0.8241671351533975, 'colsample_bylevel': 0.9223983666263984, 'colsample_bynode': 0.8616320081842022, 'lambda': 10.32221506311999, 'alpha': 0.038627984372408164, 'n_estimators': 785}. Best is trial 34 with value: 341.64414063306685.\n",
            "[I 2025-08-28 13:58:15,033] Trial 44 finished with value: 361.234468596223 and parameters: {'objective': 'reg:squarederror', 'device': 'gpu', 'random_state': 22, 'eta': 0.1354979266330245, 'gamma': 0.0018437655601378847, 'max_depth': 3, 'min_child_weight': 6, 'max_delta_step': 10, 'subsample': 0.2473861922314571, 'colsample_bytree': 0.7875290185330972, 'colsample_bylevel': 0.8850084401620861, 'colsample_bynode': 0.786437373896652, 'lambda': 4.01853870038059, 'alpha': 0.09006032018790695, 'n_estimators': 571}. Best is trial 34 with value: 341.64414063306685.\n",
            "[I 2025-08-28 13:58:19,440] Trial 45 finished with value: 350.03785068601786 and parameters: {'objective': 'reg:squarederror', 'device': 'gpu', 'random_state': 22, 'eta': 0.20489583103595327, 'gamma': 0.0032030992434817235, 'max_depth': 4, 'min_child_weight': 15, 'max_delta_step': 9, 'subsample': 0.28694711625257285, 'colsample_bytree': 0.6019438931329145, 'colsample_bylevel': 0.9566207445037049, 'colsample_bynode': 0.9329891792860475, 'lambda': 7.5343437344542705, 'alpha': 0.005764111469284877, 'n_estimators': 812}. Best is trial 34 with value: 341.64414063306685.\n",
            "[I 2025-08-28 13:58:23,661] Trial 46 finished with value: 353.7207698599895 and parameters: {'objective': 'reg:squarederror', 'device': 'gpu', 'random_state': 22, 'eta': 0.11220996137645418, 'gamma': 0.01441856848484519, 'max_depth': 3, 'min_child_weight': 22, 'max_delta_step': 10, 'subsample': 0.3019178903058567, 'colsample_bytree': 0.8783028673839064, 'colsample_bylevel': 0.8176804039760786, 'colsample_bynode': 0.8690763311428774, 'lambda': 15.348588427112908, 'alpha': 0.0026880473761856653, 'n_estimators': 1020}. Best is trial 34 with value: 341.64414063306685.\n",
            "[I 2025-08-28 13:58:28,729] Trial 47 finished with value: 352.6559580321848 and parameters: {'objective': 'reg:squarederror', 'device': 'gpu', 'random_state': 22, 'eta': 0.1764422627661963, 'gamma': 0.0015312023437887858, 'max_depth': 5, 'min_child_weight': 7, 'max_delta_step': 9, 'subsample': 0.230355571035951, 'colsample_bytree': 0.7109960924279786, 'colsample_bylevel': 0.8931352566245957, 'colsample_bynode': 0.9992648040722558, 'lambda': 4.682121098257298, 'alpha': 0.012382847000460624, 'n_estimators': 669}. Best is trial 34 with value: 341.64414063306685.\n",
            "[I 2025-08-28 13:58:34,664] Trial 48 finished with value: 360.3310454676374 and parameters: {'objective': 'reg:squarederror', 'device': 'gpu', 'random_state': 22, 'eta': 0.06867037953696677, 'gamma': 0.002377416892826165, 'max_depth': 4, 'min_child_weight': 29, 'max_delta_step': 10, 'subsample': 0.2387836419850355, 'colsample_bytree': 0.9303767416049672, 'colsample_bylevel': 0.8234523486900142, 'colsample_bynode': 0.8047515227931106, 'lambda': 2.254653293837631, 'alpha': 0.029874037620698905, 'n_estimators': 1130}. Best is trial 34 with value: 341.64414063306685.\n",
            "[I 2025-08-28 13:58:38,172] Trial 49 finished with value: 351.8343010635214 and parameters: {'objective': 'reg:squarederror', 'device': 'gpu', 'random_state': 22, 'eta': 0.25395558900704396, 'gamma': 0.0010327024939617549, 'max_depth': 3, 'min_child_weight': 14, 'max_delta_step': 8, 'subsample': 0.38084059022799854, 'colsample_bytree': 0.8368578536175084, 'colsample_bylevel': 0.9479000188627507, 'colsample_bynode': 0.7665613947694241, 'lambda': 1.2872797815350707, 'alpha': 1.0173762809537934, 'n_estimators': 838}. Best is trial 34 with value: 341.64414063306685.\n"
          ]
        },
        {
          "name": "stdout",
          "output_type": "stream",
          "text": [
            "En iyi parametreler: {'objective': 'reg:squarederror', 'device': 'gpu', 'random_state': 22, 'eta': 0.06805925858288127, 'gamma': 0.007598560661707519, 'max_depth': 5, 'min_child_weight': 26, 'max_delta_step': 10, 'subsample': 0.6501883007229573, 'colsample_bytree': 0.8024275970546287, 'colsample_bylevel': 0.83207869249364, 'colsample_bynode': 0.8330850030340746, 'lambda': 0.20263332224150976, 'alpha': 0.04126849049726349, 'n_estimators': 1262}\n",
            "En iyi doğruluk: 341.64414063306685\n"
          ]
        }
      ],
      "source": [
        "study = optuna.create_study(direction='minimize',study_name=\"BTK\")\n",
        "study.optimize(objective_xgb, n_trials=50)\n",
        "\n",
        "print(\"En iyi parametreler:\", study.best_params)\n",
        "print(\"En iyi doğruluk:\", study.best_value)"
      ]
    },
    {
      "cell_type": "markdown",
      "id": "1678a12b",
      "metadata": {
        "id": "1678a12b"
      },
      "source": [
        "# CatBoost"
      ]
    },
    {
      "cell_type": "code",
      "execution_count": null,
      "id": "3d85b68a",
      "metadata": {
        "id": "3d85b68a"
      },
      "outputs": [],
      "source": [
        "def objective_catboost(trial):\n",
        "    param_constant = {\n",
        "        \"loss_function\" : trial.suggest_categorical(\"loss_function\", [\"RMSE\"]),\n",
        "        \"task_type\" : trial.suggest_categorical(\"task_type\", [\"GPU\"]),\n",
        "        \"verbose\" : trial.suggest_categorical(\"verbose\", [False]),\n",
        "        \"random_state\" : trial.suggest_categorical(\"random_state\", [seed]),\n",
        "    }\n",
        "    param = {\n",
        "        \"iterations\": trial.suggest_int(\"iterations\", 100, 3500),\n",
        "        \"learning_rate\": trial.suggest_float(\"learning_rate\", 1e-3, 0.3, log=True),\n",
        "        \"depth\": trial.suggest_int(\"depth\", 3, 12),\n",
        "        \"l2_leaf_reg\": trial.suggest_float(\"l2_leaf_reg\", 1, 10, log=True),\n",
        "        #\"subsample\": trial.suggest_float(\"subsample\", 0.5, 1.0),\n",
        "        \"min_data_in_leaf\": trial.suggest_int(\"min_data_in_leaf\", 1, 100),\n",
        "        \"bagging_temperature\": trial.suggest_float(\"bagging_temperature\", 0, 10),\n",
        "        \"random_strength\": trial.suggest_float(\"random_strength\", 0, 10),\n",
        "    }\n",
        "\n",
        "    if os.path.exists(\"./results.csv\"):\n",
        "        results = pd.read_csv(\"./results.csv\")\n",
        "    else:\n",
        "        results = pd.DataFrame()\n",
        "\n",
        "    cv=TimeSeriesSplit(n_splits=4)\n",
        "    scores_list = []\n",
        "    for fold, (train_idx, test_idx) in enumerate(cv.split(train)):\n",
        "        train_x , val_x = x.iloc[train_idx] , x.iloc[test_idx]\n",
        "        train_y , val_y = y.iloc[train_idx] , y.iloc[test_idx]\n",
        "        #print(f\"Fold {fold+1}\",train_x.shape,train_y.shape,val_x.shape,val_y.shape)\n",
        "        model = CatBoostRegressor(**param,**param_constant)\n",
        "        model.fit(train_x,train_y,verbose=False)\n",
        "        prediction = model.predict(val_x)\n",
        "        mse = mean_squared_error(val_y,prediction)\n",
        "        scores_list.append(mse)\n",
        "\n",
        "    df = pd.DataFrame([{\n",
        "        \"model\":\"catboost\",\n",
        "        \"fold0\": scores_list[0],\n",
        "        \"fold1\": scores_list[1],\n",
        "        \"fold2\": scores_list[2],\n",
        "        \"fold3\": scores_list[3],\n",
        "        \"hyperparameters\": {**param,**param_constant},\n",
        "    }])\n",
        "    results = pd.concat([results,df],ignore_index=True)\n",
        "    results.to_csv(\"./results.csv\", index=False)\n",
        "\n",
        "    return np.mean(scores_list)"
      ]
    },
    {
      "cell_type": "code",
      "execution_count": null,
      "id": "3592ef35",
      "metadata": {
        "id": "3592ef35"
      },
      "outputs": [],
      "source": [
        "study = optuna.create_study(direction='minimize',study_name=\"BTK\")\n",
        "study.optimize(objective_catboost, n_trials=50)\n",
        "\n",
        "print(\"En iyi parametreler:\", study.best_params)\n",
        "print(\"En iyi doğruluk:\", study.best_value)"
      ]
    }
  ],
  "metadata": {
    "kernelspec": {
      "display_name": ".venv (3.12.3)",
      "language": "python",
      "name": "python3"
    },
    "language_info": {
      "codemirror_mode": {
        "name": "ipython",
        "version": 3
      },
      "file_extension": ".py",
      "mimetype": "text/x-python",
      "name": "python",
      "nbconvert_exporter": "python",
      "pygments_lexer": "ipython3",
      "version": "3.12.3"
    },
    "colab": {
      "provenance": []
    }
  },
  "nbformat": 4,
  "nbformat_minor": 5
}